{
 "cells": [
  {
   "cell_type": "code",
   "execution_count": 1,
   "id": "d1a55483-4bb2-417b-9c44-5753eecd935b",
   "metadata": {},
   "outputs": [
    {
     "name": "stdout",
     "output_type": "stream",
     "text": [
      "Ronda 1 : {'Shadow': {'kills': 2, 'assists': 1, 'deaths': 1, 'puntos': 6, 'mvps': 1}, 'Viper': {'kills': 1, 'assists': 2, 'deaths': 1, 'puntos': 4, 'mvps': 0}, 'Reaper': {'kills': 1, 'assists': 1, 'deaths': 0, 'puntos': 4, 'mvps': 0}, 'Blaze': {'kills': 1, 'assists': 0, 'deaths': 0, 'puntos': 3, 'mvps': 0}, 'Frost': {'kills': 0, 'assists': 1, 'deaths': 0, 'puntos': 1, 'mvps': 0}} \n",
      "\n",
      "Ronda 2 : {'Shadow': {'kills': 2, 'assists': 3, 'deaths': 1, 'puntos': 8, 'mvps': 2}, 'Viper': {'kills': 2, 'assists': 3, 'deaths': 1, 'puntos': 8, 'mvps': 0}, 'Blaze': {'kills': 3, 'assists': 0, 'deaths': 1, 'puntos': 8, 'mvps': 0}, 'Frost': {'kills': 2, 'assists': 2, 'deaths': 1, 'puntos': 7, 'mvps': 0}, 'Reaper': {'kills': 1, 'assists': 2, 'deaths': 0, 'puntos': 5, 'mvps': 0}} \n",
      "\n",
      "Ronda 3 : {'Blaze': {'kills': 5, 'assists': 2, 'deaths': 2, 'puntos': 15, 'mvps': 1}, 'Shadow': {'kills': 3, 'assists': 3, 'deaths': 1, 'puntos': 11, 'mvps': 2}, 'Viper': {'kills': 3, 'assists': 4, 'deaths': 2, 'puntos': 11, 'mvps': 0}, 'Reaper': {'kills': 2, 'assists': 3, 'deaths': 0, 'puntos': 9, 'mvps': 0}, 'Frost': {'kills': 2, 'assists': 3, 'deaths': 1, 'puntos': 8, 'mvps': 0}} \n",
      "\n",
      "Ronda 4 : {'Shadow': {'kills': 5, 'assists': 4, 'deaths': 1, 'puntos': 18, 'mvps': 3}, 'Blaze': {'kills': 6, 'assists': 2, 'deaths': 3, 'puntos': 17, 'mvps': 1}, 'Viper': {'kills': 3, 'assists': 6, 'deaths': 2, 'puntos': 13, 'mvps': 0}, 'Reaper': {'kills': 3, 'assists': 4, 'deaths': 0, 'puntos': 13, 'mvps': 0}, 'Frost': {'kills': 3, 'assists': 4, 'deaths': 2, 'puntos': 11, 'mvps': 0}} \n",
      "\n",
      "Ronda 5 : {'Shadow': {'kills': 6, 'assists': 6, 'deaths': 2, 'puntos': 22, 'mvps': 4}, 'Blaze': {'kills': 6, 'assists': 3, 'deaths': 3, 'puntos': 18, 'mvps': 1}, 'Viper': {'kills': 5, 'assists': 6, 'deaths': 3, 'puntos': 18, 'mvps': 0}, 'Reaper': {'kills': 4, 'assists': 5, 'deaths': 1, 'puntos': 16, 'mvps': 0}, 'Frost': {'kills': 4, 'assists': 5, 'deaths': 2, 'puntos': 15, 'mvps': 0}} \n",
      "\n",
      "Ranking Final: {'Shadow': {'kills': 6, 'assists': 6, 'deaths': 2, 'puntos': 22, 'mvps': 4}, 'Blaze': {'kills': 6, 'assists': 3, 'deaths': 3, 'puntos': 18, 'mvps': 1}, 'Viper': {'kills': 5, 'assists': 6, 'deaths': 3, 'puntos': 18, 'mvps': 0}, 'Reaper': {'kills': 4, 'assists': 5, 'deaths': 1, 'puntos': 16, 'mvps': 0}, 'Frost': {'kills': 4, 'assists': 5, 'deaths': 2, 'puntos': 15, 'mvps': 0}}\n"
     ]
    }
   ],
   "source": [
    "import sys\n",
    "import os\n",
    "sys.path.append(os.path.abspath(\"../src\"))\n",
    "import funciones\n",
    "\n",
    "rondas = [\n",
    "    {\n",
    "        'Shadow': {'kills': 2, 'assists': 1, 'deaths': True},\n",
    "        'Blaze': {'kills': 1, 'assists': 0, 'deaths': False},\n",
    "        'Viper': {'kills': 1, 'assists': 2, 'deaths': True},\n",
    "        'Frost': {'kills': 0, 'assists': 1, 'deaths': False},\n",
    "        'Reaper': {'kills': 1, 'assists': 1, 'deaths': False}\n",
    "    },\n",
    "    {\n",
    "        'Shadow': {'kills': 0, 'assists': 2, 'deaths': False},\n",
    "        'Blaze': {'kills': 2, 'assists': 0, 'deaths': True},\n",
    "        'Viper': {'kills': 1, 'assists': 1, 'deaths': False},\n",
    "        'Frost': {'kills': 2, 'assists': 1, 'deaths': True},\n",
    "        'Reaper': {'kills': 0, 'assists': 1, 'deaths': False}\n",
    "    },\n",
    "    {\n",
    "        'Shadow': {'kills': 1, 'assists': 0, 'deaths': False},\n",
    "        'Blaze': {'kills': 2, 'assists': 2, 'deaths': True},\n",
    "        'Viper': {'kills': 1, 'assists': 1, 'deaths': True},\n",
    "        'Frost': {'kills': 0, 'assists': 1, 'deaths': False},\n",
    "        'Reaper': {'kills': 1, 'assists': 1, 'deaths': False}\n",
    "    },\n",
    "    {\n",
    "        'Shadow': {'kills': 2, 'assists': 1, 'deaths': False},\n",
    "        'Blaze': {'kills': 1, 'assists': 0, 'deaths': True},\n",
    "        'Viper': {'kills': 0, 'assists': 2, 'deaths': False},\n",
    "        'Frost': {'kills': 1, 'assists': 1, 'deaths': True},\n",
    "        'Reaper': {'kills': 1, 'assists': 1, 'deaths': False}\n",
    "    },\n",
    "    {\n",
    "        'Shadow': {'kills': 1, 'assists': 2, 'deaths': True},\n",
    "        'Blaze': {'kills': 0, 'assists': 1, 'deaths': False},\n",
    "        'Viper': {'kills': 2, 'assists': 0, 'deaths': True},\n",
    "        'Frost': {'kills': 1, 'assists': 1, 'deaths': False},\n",
    "        'Reaper': {'kills': 1, 'assists': 1, 'deaths': True}\n",
    "    }\n",
    "]\n",
    "\n",
    "ranking = {\n",
    "    'Shadow': {'kills': 0, 'assists': 0, 'deaths': False, 'puntos': 0, 'mvps': 0},\n",
    "    'Blaze': {'kills': 0, 'assists': 0, 'deaths': False, 'puntos': 0, 'mvps': 0},\n",
    "    'Viper': {'kills': 0, 'assists': 0, 'deaths': False, 'puntos': 0, 'mvps': 0},\n",
    "    'Frost': {'kills': 0, 'assists': 0, 'deaths': False, 'puntos': 0, 'mvps': 0},\n",
    "    'Reaper': {'kills': 0, 'assists': 0, 'deaths': False, 'puntos': 0, 'mvps': 0}\n",
    "}\n",
    "\n",
    "ranking = funciones.cargarRanking(rondas, ranking)\n",
    "print(f\"Ranking Final: {ranking}\")\n"
   ]
  },
  {
   "cell_type": "code",
   "execution_count": null,
   "id": "4be0e970-4ded-475b-a948-2a129d68f646",
   "metadata": {},
   "outputs": [],
   "source": []
  }
 ],
 "metadata": {
  "kernelspec": {
   "display_name": "Python 3 (ipykernel)",
   "language": "python",
   "name": "python3"
  },
  "language_info": {
   "codemirror_mode": {
    "name": "ipython",
    "version": 3
   },
   "file_extension": ".py",
   "mimetype": "text/x-python",
   "name": "python",
   "nbconvert_exporter": "python",
   "pygments_lexer": "ipython3",
   "version": "3.13.2"
  }
 },
 "nbformat": 4,
 "nbformat_minor": 5
}
