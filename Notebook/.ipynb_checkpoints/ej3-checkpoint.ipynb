{
 "cells": [
  {
   "cell_type": "code",
   "execution_count": 2,
   "id": "9a832e08-1af7-43e8-a962-7bb8c5c40182",
   "metadata": {},
   "outputs": [
    {
     "name": "stdin",
     "output_type": "stream",
     "text": [
      "ingrese una palabra clave:  tema\n"
     ]
    },
    {
     "name": "stdout",
     "output_type": "stream",
     "text": [
      "\n",
      "Usa los canales adecuados para cada tema\n"
     ]
    }
   ],
   "source": [
    "rules = \"\"\"Respeta a los demás. No se permiten insultos ni lenguaje\n",
    "ofensivo.\n",
    "Evita el spam. No publiques enlaces sospechosos o repetitivos.\n",
    "No compartas información personal.\n",
    "Usa los canales adecuados para cada tema.\n",
    "Sigue las instrucciones de los moderadores.\"\"\"\n",
    "\n",
    "reglas = rules.split(\".\")\n",
    "pal = input(\"ingrese una palabra clave: \")\n",
    "for regla in reglas:\n",
    "    if pal in regla:\n",
    "        print(regla)\n"
   ]
  },
  {
   "cell_type": "code",
   "execution_count": null,
   "id": "ae9c4632-3b0b-474a-9811-bf268b4e4197",
   "metadata": {},
   "outputs": [],
   "source": []
  }
 ],
 "metadata": {
  "kernelspec": {
   "display_name": "Python 3 (ipykernel)",
   "language": "python",
   "name": "python3"
  },
  "language_info": {
   "codemirror_mode": {
    "name": "ipython",
    "version": 3
   },
   "file_extension": ".py",
   "mimetype": "text/x-python",
   "name": "python",
   "nbconvert_exporter": "python",
   "pygments_lexer": "ipython3",
   "version": "3.13.2"
  }
 },
 "nbformat": 4,
 "nbformat_minor": 5
}
