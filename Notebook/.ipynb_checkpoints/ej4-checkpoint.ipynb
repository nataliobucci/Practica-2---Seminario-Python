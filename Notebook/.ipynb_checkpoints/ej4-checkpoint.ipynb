{
 "cells": [
  {
   "cell_type": "code",
   "execution_count": null,
   "id": "1e32a208-e139-43f0-a7cf-3e7e8a5fb569",
   "metadata": {},
   "outputs": [],
   "source": [
    "usu = input(\n",
    "    \"  Ingrese su nombre de usuario con al menos 5 caracteres, 1 numero, 1 maysucula:  \")\n",
    "\n",
    "if ((len(usu) >= 5) and (any(caracter.isdigit() for caracter in usu)) and (any(caracter.isupper() for caracter in usu)) and (caracter.isalnum() for caracter in usu)):\n",
    "    print(\"El nombre de usuario es valio. \")\n",
    "else:\n",
    "    print(\"El nombre de usuario no cumple los requisitos.\")\n"
   ]
  }
 ],
 "metadata": {
  "kernelspec": {
   "display_name": "Python 3 (ipykernel)",
   "language": "python",
   "name": "python3"
  },
  "language_info": {
   "codemirror_mode": {
    "name": "ipython",
    "version": 3
   },
   "file_extension": ".py",
   "mimetype": "text/x-python",
   "name": "python",
   "nbconvert_exporter": "python",
   "pygments_lexer": "ipython3",
   "version": "3.13.2"
  }
 },
 "nbformat": 4,
 "nbformat_minor": 5
}
