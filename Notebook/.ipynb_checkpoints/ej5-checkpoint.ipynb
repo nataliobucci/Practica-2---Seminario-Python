{
 "cells": [
  {
   "cell_type": "code",
   "execution_count": 1,
   "id": "e5a8a265-5612-49f9-8ed9-d7aff9351465",
   "metadata": {},
   "outputs": [
    {
     "name": "stdin",
     "output_type": "stream",
     "text": [
      "ingrese el tiempo en ms:  304\n"
     ]
    },
    {
     "name": "stdout",
     "output_type": "stream",
     "text": [
      "Categoria: Normal\n"
     ]
    }
   ],
   "source": [
    "import sys\n",
    "import os\n",
    "sys.path.append(os.path.abspath(\"../src\"))\n",
    "import funciones\n",
    "\n",
    "tiempo = int(input(\"ingrese el tiempo en ms: \"))\n",
    "categoria = funciones.calculo(tiempo)\n",
    "print(f\"Categoria: {categoria}\")\n"
   ]
  },
  {
   "cell_type": "code",
   "execution_count": null,
   "id": "be8f86aa-2fa5-48f6-9791-34b0ff93011b",
   "metadata": {},
   "outputs": [],
   "source": []
  }
 ],
 "metadata": {
  "kernelspec": {
   "display_name": "Python 3 (ipykernel)",
   "language": "python",
   "name": "python3"
  },
  "language_info": {
   "codemirror_mode": {
    "name": "ipython",
    "version": 3
   },
   "file_extension": ".py",
   "mimetype": "text/x-python",
   "name": "python",
   "nbconvert_exporter": "python",
   "pygments_lexer": "ipython3",
   "version": "3.13.2"
  }
 },
 "nbformat": 4,
 "nbformat_minor": 5
}
