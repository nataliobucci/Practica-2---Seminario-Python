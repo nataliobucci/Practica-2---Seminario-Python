{
 "cells": [
  {
   "cell_type": "code",
   "execution_count": 5,
   "id": "4e702429-4cd3-4c9b-b2f8-e41a878a8a76",
   "metadata": {},
   "outputs": [
    {
     "name": "stdout",
     "output_type": "stream",
     "text": [
      "Menciones de musica:  4\n",
      "Menciones de charla:  2\n",
      "Menciones de entretenimiento:  1\n"
     ]
    }
   ],
   "source": [
    "descriptions = [\n",
    "    \"Streaming de música en vivo con covers y composiciones\",\n",
    "    \"Charla interactiva con la audiencia sobre series y películas\",\n",
    "    \"Jugamos a juegos retro y charlamos sobre su historia\",\n",
    "    \"Exploramos la mejor música de los 80s y 90s\",\n",
    "    \"Programa de entretenimiento con noticias y curiosidades del mundo gamer\",\n",
    "    \"Sesión de charla con invitados especiales del mundo del streaming\",\n",
    "    \"Música en directo con improvisaciones y peticiones del chat\",\n",
    "    \"Un espacio para charlar relajada sobre tecnología y cultura digital\",\n",
    "    \"Exploramos el impacto de la música en los videojuegos clásicos\"]\n",
    "\n",
    "\n",
    "musica = sum(1 for pal in descriptions if \"música\" in pal.lower())\n",
    "charla = sum(1 for pal in descriptions if \"charla \" in pal.lower())\n",
    "entre = sum(1 for pal in descriptions if \"entretenimiento\" in pal.lower())\n",
    "\n",
    "\n",
    "print(\"Menciones de musica: \", musica)\n",
    "print(\"Menciones de charla: \", charla)\n",
    "print(\"Menciones de entretenimiento: \", entre)"
   ]
  },
  {
   "cell_type": "code",
   "execution_count": null,
   "id": "e5f4b4ad-3641-4cf9-910f-0a127f395361",
   "metadata": {},
   "outputs": [],
   "source": []
  }
 ],
 "metadata": {
  "kernelspec": {
   "display_name": "Python 3 (ipykernel)",
   "language": "python",
   "name": "python3"
  },
  "language_info": {
   "codemirror_mode": {
    "name": "ipython",
    "version": 3
   },
   "file_extension": ".py",
   "mimetype": "text/x-python",
   "name": "python",
   "nbconvert_exporter": "python",
   "pygments_lexer": "ipython3",
   "version": "3.13.2"
  }
 },
 "nbformat": 4,
 "nbformat_minor": 5
}
