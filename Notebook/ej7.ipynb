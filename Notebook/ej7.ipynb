{
 "cells": [
  {
   "cell_type": "code",
   "execution_count": 2,
   "id": "78130d44-6165-44fb-b539-52a857796b5a",
   "metadata": {},
   "outputs": [
    {
     "name": "stdin",
     "output_type": "stream",
     "text": [
      "Ingrese su nombre de usuario:  juan caros\n",
      "Ingrese la fecha actual (DD-MM-AA):  22-33-44\n"
     ]
    },
    {
     "name": "stdout",
     "output_type": "stream",
     "text": [
      "Codigo de descuento: JUANCAROS-223344-GJN9RH28\n"
     ]
    }
   ],
   "source": [
    "import random\n",
    "import string\n",
    "usu = input(\"Ingrese su nombre de usuario: \")\n",
    "fecha = input(\"Ingrese la fecha actual (DD-MM-AA): \")\n",
    "cars = string.ascii_uppercase + string.digits\n",
    "cod = usu.upper().replace(\" \",\"\") + \"-\" + fecha.replace(\"-\", \"\") + \\\n",
    "    \"-\" + \"\".join(random.choices(cars, k=8))\n",
    "print(f\"Codigo de descuento: \" + cod)\n"
   ]
  },
  {
   "cell_type": "code",
   "execution_count": null,
   "id": "d017cf74-ca6f-4bc3-b7be-ea205a66d160",
   "metadata": {},
   "outputs": [],
   "source": []
  },
  {
   "cell_type": "code",
   "execution_count": null,
   "id": "8ece0c36-b6af-492e-a177-74247722d17f",
   "metadata": {},
   "outputs": [],
   "source": []
  }
 ],
 "metadata": {
  "kernelspec": {
   "display_name": "Python 3 (ipykernel)",
   "language": "python",
   "name": "python3"
  },
  "language_info": {
   "codemirror_mode": {
    "name": "ipython",
    "version": 3
   },
   "file_extension": ".py",
   "mimetype": "text/x-python",
   "name": "python",
   "nbconvert_exporter": "python",
   "pygments_lexer": "ipython3",
   "version": "3.13.2"
  }
 },
 "nbformat": 4,
 "nbformat_minor": 5
}
