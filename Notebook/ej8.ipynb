{
 "cells": [
  {
   "cell_type": "code",
   "execution_count": 6,
   "id": "756e420a-8bcf-40ba-b7f3-dbe8f581e068",
   "metadata": {},
   "outputs": [
    {
     "name": "stdin",
     "output_type": "stream",
     "text": [
      "ingrese una palabra:  da\n",
      "ingrese una palabra:  sffff\n"
     ]
    },
    {
     "name": "stdout",
     "output_type": "stream",
     "text": [
      "no son anagramas.\n"
     ]
    }
   ],
   "source": [
    "import sys\n",
    "import os\n",
    "sys.path.append(os.path.abspath(\"../src\"))\n",
    "import funciones\n",
    "\n",
    "pal1 = input(\"ingrese una palabra: \")\n",
    "pal2 = input(\"ingrese una palabra: \")\n",
    "\n",
    "\n",
    "if funciones.sonAnagramas(pal1, pal2):\n",
    "    print(\"son anagramas.\")\n",
    "else:\n",
    "    print(\"no son anagramas.\")\n"
   ]
  },
  {
   "cell_type": "code",
   "execution_count": null,
   "id": "fee5710c-999d-4176-b74a-1a65a19d22de",
   "metadata": {},
   "outputs": [],
   "source": []
  }
 ],
 "metadata": {
  "kernelspec": {
   "display_name": "Python 3 (ipykernel)",
   "language": "python",
   "name": "python3"
  },
  "language_info": {
   "codemirror_mode": {
    "name": "ipython",
    "version": 3
   },
   "file_extension": ".py",
   "mimetype": "text/x-python",
   "name": "python",
   "nbconvert_exporter": "python",
   "pygments_lexer": "ipython3",
   "version": "3.13.2"
  }
 },
 "nbformat": 4,
 "nbformat_minor": 5
}
