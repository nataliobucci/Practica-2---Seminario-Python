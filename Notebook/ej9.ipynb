{
 "cells": [
  {
   "cell_type": "code",
   "execution_count": 2,
   "id": "5f96c2eb-50d4-4aac-827e-a1bbb8ad10ad",
   "metadata": {},
   "outputs": [
    {
     "name": "stdout",
     "output_type": "stream",
     "text": [
      "Ana López\n",
      "Pedro Gómez\n",
      "Maria Martínez\n",
      "\n",
      "Luis Rodríguez\n",
      "Juan Pérez\n",
      "Marta Suárez\n",
      "María Martínez\n",
      "Claudia Torres\n",
      "Ricardo Fernández\n",
      "Laura Ramos\n",
      "Carlos Mendes\n",
      "Alejandro González\n",
      "Patricia Vega\n",
      "Andrés Ocampo\n",
      "Monica Herrera\n",
      "Gabriela Ruíz\n",
      "Sandra Morales\n",
      "Miguel Ángel\n",
      "Damián Castillo\n"
     ]
    }
   ],
   "source": [
    "Clients = [\" Ana López \", \"Pedro Gómez\", \"maria martínez\", \"Pedro Gómez \", \"\",\n",
    "           \" Luis Rodríguez \", None, \"ana lópez\", \"JUAN PÉREZ\", \"MARTA SUÁREZ\",\n",
    "           \"luis rodríguez\", \"maría martínez \", \" claudia torres\", \"CLAUDIA TORRES\",\n",
    "           \" \", \"pedro gómez\", \"Juan Pérez\", None, \"Ricardo Fernández\", \"LAURA RAMOS\",\n",
    "           \"carlos mendes\", \"RICARDO FERNÁNDEZ \", \" Laura ramos\", \"CARLOS MENDES\",\n",
    "           \"alejandro gonzález\", \" ALEJANDRO GONZÁLEZ \", \"Patricia Vega\",\n",
    "           \"patricia VEGA\", \"Andrés Ocampo\", \" andrés ocampo\", \"Monica Herrera\",\n",
    "           \"MONICA HERRERA \", \"gabriela ruíz\", \"Gabriela Ruíz\", \"sandra morales\",\n",
    "           \"SANDRA MORALES\", \"miguel ángel\", \"Miguel Ángel \", \" Damián Castillo\",\n",
    "           \"Damián Castillo \", None, \"\", \" \"]\n",
    "\n",
    "Cli = []\n",
    "\n",
    "for elem in Clients:\n",
    "    if elem is not None and elem.strip() and elem.strip().title() not in Cli:\n",
    "        Cli.append(elem.strip().title())\n",
    "\n",
    "for elem in Cli:\n",
    "    print(elem)\n"
   ]
  },
  {
   "cell_type": "code",
   "execution_count": null,
   "id": "c839ddd6-6ec1-4fee-813b-6718b30a7398",
   "metadata": {},
   "outputs": [],
   "source": []
  }
 ],
 "metadata": {
  "kernelspec": {
   "display_name": "Python 3 (ipykernel)",
   "language": "python",
   "name": "python3"
  },
  "language_info": {
   "codemirror_mode": {
    "name": "ipython",
    "version": 3
   },
   "file_extension": ".py",
   "mimetype": "text/x-python",
   "name": "python",
   "nbconvert_exporter": "python",
   "pygments_lexer": "ipython3",
   "version": "3.13.2"
  }
 },
 "nbformat": 4,
 "nbformat_minor": 5
}
